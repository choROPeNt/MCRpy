{
 "cells": [
  {
   "cell_type": "code",
   "execution_count": 4,
   "metadata": {},
   "outputs": [],
   "source": [
    "import numpy as np\n",
    "import meshio"
   ]
  },
  {
   "cell_type": "code",
   "execution_count": 11,
   "metadata": {},
   "outputs": [],
   "source": [
    "# Assuming 'data' is your NumPy array of size 64x64x1\n",
    "data = np.random.rand(64, 64, 1)  # Example data, you should replace it with your actual data\n",
    "\n",
    "# Example material information (64x64x1)\n",
    "material_data = np.random.randint(0, 2, size=(64, 64, 1))  # Example material data (binary values 0 or 1)\n",
    "\n",
    "# Example vector information (64x64x1x3)\n",
    "vector_data = np.random.rand(64, 64, 1, 3)  # Example vector data (3 components per cell)\n",
    "\n",
    "# Prepare points and cells\n",
    "points = np.zeros((64 * 64, 3))\n",
    "for i in range(64):\n",
    "    for j in range(64):\n",
    "        points[i * 64 + j] = [i, j, 0]\n",
    "\n",
    "# Define the cells for a regular quad mesh\n",
    "cells = [(\"quad\", np.array([[i * 64 + j, i * 64 + j + 1, (i + 1) * 64 + j + 1, (i + 1) * 64 + j] for i in range(63) for j in range(63)]))]\n",
    "\n",
    "# Write data to XDMF file\n",
    "mesh = meshio.Mesh(points, cells)\n",
    "# mesh.cell_data[\"data\"] = [data.flatten()]\n",
    "mesh.cell_data[\"material\"] = [material_data.flatten()]\n",
    "mesh.cell_data[\"vector\"] = [vector_data.reshape(-1, 3)]\n",
    "\n",
    "meshio.write(\"output_64x64x1.xdmf\", mesh)"
   ]
  },
  {
   "cell_type": "code",
   "execution_count": 12,
   "metadata": {},
   "outputs": [],
   "source": [
    "# Assuming 'data' is your NumPy array of size 64x64x64\n",
    "data = np.random.rand(64, 64, 64)  # Example data, you should replace it with your actual data\n",
    "\n",
    "# Example material information (64x64x64)\n",
    "material_data = np.random.randint(0, 2, size=(64, 64, 64))  # Example material data (binary values 0 or 1)\n",
    "\n",
    "# Example vector information (64x64x64x3)\n",
    "vector_data = np.random.rand(64, 64, 64, 3)  # Example vector data (3 components per cell)\n",
    "\n",
    "# Prepare points and cells\n",
    "points = np.zeros((64 * 64 * 64, 3))\n",
    "for i in range(64):\n",
    "    for j in range(64):\n",
    "        for k in range(64):\n",
    "            points[i * 64 * 64 + j * 64 + k] = [i, j, k]\n",
    "\n",
    "# Define the cells for a regular hexahedral mesh\n",
    "cells = [(\"hexahedron\", np.array([\n",
    "    [i * 64 * 64 + j * 64 + k, i * 64 * 64 + j * 64 + k + 1, i * 64 * 64 + (j + 1) * 64 + k + 1, i * 64 * 64 + (j + 1) * 64 + k, \n",
    "     (i + 1) * 64 * 64 + j * 64 + k, (i + 1) * 64 * 64 + j * 64 + k + 1, (i + 1) * 64 * 64 + (j + 1) * 64 + k + 1, (i + 1) * 64 * 64 + (j + 1) * 64 + k] \n",
    "     for i in range(63) for j in range(63) for k in range(63)]))]\n",
    "\n",
    "# Write data to XDMF file\n",
    "mesh = meshio.Mesh(points, cells)\n",
    "mesh.cell_data[\"data\"] = [data.flatten()]\n",
    "mesh.cell_data[\"material\"] = [material_data.flatten()]\n",
    "mesh.cell_data[\"vector\"] = [vector_data.reshape(-1, 3)]\n",
    "\n",
    "meshio.write(\"output_64x64x64.xdmf\", mesh)"
   ]
  }
 ],
 "metadata": {
  "kernelspec": {
   "display_name": ".venv_mcrpy",
   "language": "python",
   "name": "python3"
  },
  "language_info": {
   "codemirror_mode": {
    "name": "ipython",
    "version": 3
   },
   "file_extension": ".py",
   "mimetype": "text/x-python",
   "name": "python",
   "nbconvert_exporter": "python",
   "pygments_lexer": "ipython3",
   "version": "3.11.7"
  }
 },
 "nbformat": 4,
 "nbformat_minor": 2
}
